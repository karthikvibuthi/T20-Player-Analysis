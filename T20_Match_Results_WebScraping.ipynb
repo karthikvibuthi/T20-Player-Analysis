{
 "cells": [
  {
   "cell_type": "code",
   "execution_count": 7,
   "id": "aee6b382",
   "metadata": {},
   "outputs": [],
   "source": [
    "from bs4 import BeautifulSoup\n",
    "import requests, re, json"
   ]
  },
  {
   "cell_type": "code",
   "execution_count": 8,
   "id": "b07df18a",
   "metadata": {},
   "outputs": [],
   "source": [
    "url = \"https://www.espncricinfo.com/records/list-of-match-results-by-year-307852\""
   ]
  },
  {
   "cell_type": "code",
   "execution_count": 11,
   "id": "66ea8f42",
   "metadata": {},
   "outputs": [],
   "source": [
    "# Getting report for each year\n",
    "def get_match_results(url):\n",
    "    web_page = requests.get(url)\n",
    "    soup_overall = BeautifulSoup(web_page.text,\"html.parser\")\n",
    "    # getting urls for matches each year\n",
    "    pattern = re.compile(r'^/records/year/team-match-results.*$')\n",
    "    years = soup_overall.find_all(\"a\", attrs={\"href\":pattern})\n",
    "    urls = [\"https://www.espncricinfo.com\"+years[i]['href'] for i in range(len(years))]\n",
    "    data = []\n",
    "    matches = []\n",
    "    for year in urls:\n",
    "        soup_year = BeautifulSoup(requests.get(year).text, \"html.parser\")\n",
    "        tbodys = soup_year.find_all(\"tbody\")\n",
    "        for tbody in tbodys:\n",
    "            trs = tbody.find_all('tr')\n",
    "            for tr in trs:\n",
    "                row = tr.find_all('td')\n",
    "                if len(row) >= 7:\n",
    "                    data.append([row[0].get_text(),row[1].get_text(),\n",
    "                        row[2].get_text(),\n",
    "                         row[3].get_text(),\n",
    "                        row[4].get_text(),\n",
    "                        row[5].get_text(),\n",
    "                        row[6].get_text()\n",
    "                                ])\n",
    "                    matches.append([a['href'] for td in row for a in td.find_all(\"a\",attrs={\"href\":re.compile(r'full-scorecard$')})])\n",
    "                    \n",
    "    return data,matches\n",
    "    "
   ]
  },
  {
   "cell_type": "code",
   "execution_count": 12,
   "id": "1bb243f1",
   "metadata": {},
   "outputs": [],
   "source": [
    "data,matches = get_match_results(url)"
   ]
  },
  {
   "cell_type": "code",
   "execution_count": 178,
   "id": "b5a2a4f0",
   "metadata": {},
   "outputs": [],
   "source": [
    "#data"
   ]
  },
  {
   "cell_type": "code",
   "execution_count": 172,
   "id": "a62ca272",
   "metadata": {},
   "outputs": [],
   "source": [
    "# header = ['Team1', 'Team 2','Winner','Margin','Ground','Match_Date','Score_Card']\n",
    "\n",
    "# # Write the header to the CSV files\n",
    "# pd.DataFrame(columns=header).to_csv('match_summary.csv', index=False)\n",
    "\n",
    "# #print(\"Data has been written to match_data.json\")"
   ]
  },
  {
   "cell_type": "code",
   "execution_count": 179,
   "id": "75a72d6b",
   "metadata": {},
   "outputs": [],
   "source": [
    "#df = pd.DataFrame(data,columns=header)"
   ]
  },
  {
   "cell_type": "code",
   "execution_count": 177,
   "id": "46d3b6ad",
   "metadata": {},
   "outputs": [],
   "source": [
    "#df.to_csv('match_summary.csv', mode='w', header=False, index=False)"
   ]
  },
  {
   "cell_type": "code",
   "execution_count": null,
   "id": "15e83cd0",
   "metadata": {},
   "outputs": [],
   "source": []
  }
 ],
 "metadata": {
  "kernelspec": {
   "display_name": "Python 3 (ipykernel)",
   "language": "python",
   "name": "python3"
  },
  "language_info": {
   "codemirror_mode": {
    "name": "ipython",
    "version": 3
   },
   "file_extension": ".py",
   "mimetype": "text/x-python",
   "name": "python",
   "nbconvert_exporter": "python",
   "pygments_lexer": "ipython3",
   "version": "3.9.13"
  }
 },
 "nbformat": 4,
 "nbformat_minor": 5
}
